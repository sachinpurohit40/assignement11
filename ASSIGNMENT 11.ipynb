{
 "cells": [
  {
   "cell_type": "markdown",
   "id": "d951df65",
   "metadata": {},
   "source": [
    "# ASSIGNMET 11 (JUNE 18)"
   ]
  },
  {
   "cell_type": "markdown",
   "id": "83784cb2",
   "metadata": {},
   "source": [
    "QUE1 = What is the role of the 'else' block in a try-except statement? Provide an example\n",
    "scenario where it would be useful.\n",
    "\n",
    "ANS 1 = In a try-except statement in Python, the 'else' block is an optional part that comes after the 'try' block and before the 'finally' block (if there is one). The 'else' block is executed only if no exceptions are raised in the 'try' block. Its primary role is to specify a block of code that should run when there are no exceptions.\n",
    "\n",
    "Here's the basic structure of a try-except-else statement:"
   ]
  },
  {
   "cell_type": "code",
   "execution_count": 1,
   "id": "66b8ace8",
   "metadata": {},
   "outputs": [
    {
     "ename": "IndentationError",
     "evalue": "expected an indented block after 'try' statement on line 1 (1079032238.py, line 3)",
     "output_type": "error",
     "traceback": [
      "\u001b[1;36m  Cell \u001b[1;32mIn[1], line 3\u001b[1;36m\u001b[0m\n\u001b[1;33m    except ExceptionType:\u001b[0m\n\u001b[1;37m    ^\u001b[0m\n\u001b[1;31mIndentationError\u001b[0m\u001b[1;31m:\u001b[0m expected an indented block after 'try' statement on line 1\n"
     ]
    }
   ],
   "source": [
    "try:\n",
    "    # Code that may raise an exception\n",
    "except ExceptionType:\n",
    "    # Code to handle the exception\n",
    "else:\n",
    "    # Code to run if no exception is raised\n",
    "finally:\n",
    "    # Code that always runs (optional)\n"
   ]
  },
  {
   "cell_type": "markdown",
   "id": "4b975b45",
   "metadata": {},
   "source": [
    "Here's an example scenario where the 'else' block is useful:"
   ]
  },
  {
   "cell_type": "code",
   "execution_count": 2,
   "id": "b252888d",
   "metadata": {},
   "outputs": [
    {
     "name": "stdout",
     "output_type": "stream",
     "text": [
      "The result of 10 / 2 is 5.0\n",
      "Error: Division by zero\n"
     ]
    }
   ],
   "source": [
    "def divide(a, b):\n",
    "    try:\n",
    "        result = a / b\n",
    "    except ZeroDivisionError:\n",
    "        print(\"Error: Division by zero\")\n",
    "    else:\n",
    "        print(f\"The result of {a} / {b} is {result}\")\n",
    "\n",
    "# Test the divide function\n",
    "divide(10, 2)  # This will print the result: \"The result of 10 / 2 is 5.0\"\n",
    "divide(10, 0)  # This will print the error message: \"Error: Division by zero\"\n"
   ]
  },
  {
   "cell_type": "markdown",
   "id": "6076dad8",
   "metadata": {},
   "source": [
    "In this example, the 'try' block attempts to perform a division operation. If no exceptions are raised (i.e., if 'b' is not zero), the 'else' block is executed, which prints the result of the division. If an exception (ZeroDivisionError) occurs, the 'except' block is executed to handle the exception.\n",
    "\n",
    "The 'else' block allows you to separate the code that handles exceptions from the code that should run when no exceptions occur, making your code more organized and easier to read. It's particularly useful when you want to perform some action only when the 'try' block is successful and doesn't raise any exceptions."
   ]
  },
  {
   "cell_type": "markdown",
   "id": "96b3d4dd",
   "metadata": {},
   "source": [
    "QUE 2 = Can a try-except block be nested inside another try-except block? Explain with an\n",
    "example.\n",
    "\n",
    "ANS 2 = Yes, a try-except block can be nested inside another try-except block in Python. This is known as nested exception handling and is a way to handle different levels of exceptions gracefully. The inner try-except block can handle exceptions specific to a particular code block, while the outer try-except block can handle more general exceptions or provide a fallback mechanism.\n",
    "\n",
    "Here's an example to illustrate nested exception handling:"
   ]
  },
  {
   "cell_type": "code",
   "execution_count": 3,
   "id": "405b5e9c",
   "metadata": {},
   "outputs": [
    {
     "name": "stdout",
     "output_type": "stream",
     "text": [
      "Enter a numerator: 10\n",
      "Enter a denominator: 0\n",
      "Outer Exception (ZeroDivisionError): division by zero\n"
     ]
    }
   ],
   "source": [
    "try:\n",
    "    # Outer try-except block\n",
    "    num1 = int(input(\"Enter a numerator: \"))\n",
    "    num2 = int(input(\"Enter a denominator: \"))\n",
    "    \n",
    "    result = num1 / num2\n",
    "    \n",
    "    try:\n",
    "        # Inner try-except block\n",
    "        if result < 0:\n",
    "            raise ValueError(\"Result is negative\")\n",
    "        elif result == 0:\n",
    "            raise ZeroDivisionError(\"Result is zero\")\n",
    "        else:\n",
    "            print(\"Result:\", result)\n",
    "    \n",
    "    except ValueError as ve:\n",
    "        print(\"Inner Exception:\", ve)\n",
    "    \n",
    "except ZeroDivisionError as zde:\n",
    "    print(\"Outer Exception (ZeroDivisionError):\", zde)\n",
    "except Exception as e:\n",
    "    print(\"Outer Exception (General):\", e)\n"
   ]
  },
  {
   "cell_type": "markdown",
   "id": "83e3f8ba",
   "metadata": {},
   "source": [
    "QUE 3 = How can you create a custom exception class in Python? Provide an example that\n",
    "demonstrates its usage.\n",
    "\n",
    "ANS 3 = In Python, you can create a custom exception class by defining a new class that inherits from the built-in Exception class or one of its subclasses like BaseException, ValueError, or RuntimeError. You can then add any custom behavior or attributes to your exception class as needed. Here's a step-by-step guide on how to create and use a custom exception class with an example:\n",
    "\n",
    "Define a custom exception class"
   ]
  },
  {
   "cell_type": "code",
   "execution_count": 5,
   "id": "0c6d9a48",
   "metadata": {},
   "outputs": [],
   "source": [
    "class CustomError(Exception):\n",
    "    def __init__(self, message):\n",
    "        super().__init__(message)\n"
   ]
  },
  {
   "cell_type": "markdown",
   "id": "1d7a2018",
   "metadata": {},
   "source": [
    "In this example, we've defined a custom exception class called CustomError that inherits from the base Exception class. It has a constructor (__init__) that accepts a message as an argument and passes it to the base class constructor using super().__init__(message).\n",
    "\n",
    "Raise the custom exception when needed:\n",
    "You can raise your custom exception in your code using the raise statement. Here's an example of how to raise the CustomError exception:"
   ]
  },
  {
   "cell_type": "code",
   "execution_count": 6,
   "id": "1200fda6",
   "metadata": {},
   "outputs": [
    {
     "name": "stdout",
     "output_type": "stream",
     "text": [
      "Custom Error: Division by zero is not allowed\n"
     ]
    }
   ],
   "source": [
    "def divide(a, b):\n",
    "    if b == 0:\n",
    "        raise CustomError(\"Division by zero is not allowed\")\n",
    "    return a / b\n",
    "\n",
    "try:\n",
    "    result = divide(10, 0)\n",
    "except CustomError as e:\n",
    "    print(f\"Custom Error: {e}\")\n",
    "else:\n",
    "    print(f\"Result: {result}\")\n"
   ]
  },
  {
   "cell_type": "markdown",
   "id": "20fe1e6b",
   "metadata": {},
   "source": [
    "n this code, we define a function divide that takes two numbers and attempts to perform division. If the divisor (b) is zero, it raises the CustomError exception with a custom error message. We catch this exception in a try block and handle it in the except block, where we print the custom error message.\n",
    "\n",
    "Running the code:\n",
    "When you run the code, you'll see the custom error message printed because we attempted to divide by zero:"
   ]
  },
  {
   "cell_type": "markdown",
   "id": "1183ff2a",
   "metadata": {},
   "source": [
    "que 4 = What are some common exceptions that are built-in to Python?\n",
    "\n",
    "ans 4 = Python provides a variety of built-in exceptions to handle different types of errors and exceptional situations that can occur during program execution. Here are some common built-in exceptions in Python:\n",
    "\n",
    "SyntaxError: Raised when there is a syntax error in the code. This typically occurs when the code violates the language's grammar rules.\n",
    "\n",
    "IndentationError: Raised when there is an issue with the code's indentation, such as mismatched or inconsistent indentation.\n",
    "\n",
    "NameError: Raised when a local or global name is not found in the current namespace.\n",
    "\n",
    "TypeError: Raised when an operation or function is applied to an object of an inappropriate type.\n",
    "\n",
    "ValueError: Raised when a function receives an argument of the correct type but an inappropriate value.\n",
    "\n",
    "KeyError: Raised when a dictionary is accessed with a key that doesn't exist in the dictionary.\n",
    "\n",
    "IndexError: Raised when trying to access an element of a sequence (e.g., list or string) using an index that is out of range.\n",
    "\n",
    "FileNotFoundError: Raised when attempting to open or manipulate a file that does not exist.\n",
    "\n",
    "IOError: Raised for I/O-related errors, such as problems with reading or writing to a file.\n",
    "\n",
    "ZeroDivisionError: Raised when attempting to divide a number by zero.\n",
    "\n",
    "ArithmeticError: A base class for arithmetic-related exceptions like ZeroDivisionError.\n",
    "\n",
    "AssertionError: Raised when an assert statement fails.\n",
    "\n",
    "AttributeError: Raised when trying to access or use an attribute or method that doesn't exist for an object.\n",
    "\n",
    "ImportError: Raised when an import statement fails to import a module.\n",
    "\n",
    "ModuleNotFoundError: A specific type of ImportError raised when a module cannot be found.\n",
    "\n",
    "KeyboardInterrupt: Raised when the user interrupts the program's execution (typically by pressing Ctrl+C in the console).\n",
    "\n",
    "MemoryError: Raised when the program runs out of memory.\n",
    "\n",
    "OverflowError and UnderflowError: Raised when a numerical operation exceeds the representational limits of a numeric type.\n",
    "\n",
    "RecursionError: Raised when the maximum recursion depth is exceeded in a recursive function.\n",
    "\n",
    "StopIteration: Raised by iterators to signal the end of iteration.\n",
    "\n",
    "TypeError: Raised when an operation is performed on an object of an inappropriate type.\n",
    "\n",
    "ValueError: Raised when an operation receives an argument of the correct type but with an inappropriate value.\n",
    "\n",
    "PermissionError: Raised when an operation lacks the necessary permissions.\n",
    "\n",
    "FileExistsError: Raised when trying to create a file or directory that already exists"
   ]
  },
  {
   "cell_type": "markdown",
   "id": "ebc3742f",
   "metadata": {},
   "source": [
    "que 5 = What is logging in Python, and why is it important in software development?\n",
    "\n",
    "ans 5 = Logging in Python refers to the process of recording or documenting events, messages, and information related to the execution of a program. It's a crucial aspect of software development and is used to track the behavior of an application, monitor its performance, and diagnose issues or bugs. Here's why logging is important in software development:\n",
    "\n",
    "Debugging and Troubleshooting: When errors or unexpected behavior occur in a software application, logs provide valuable information about what happened leading up to the issue. Developers can review log messages to identify the cause of the problem and fix it more efficiently.\n",
    "\n",
    "Monitoring and Performance Analysis: Logs allow developers and system administrators to monitor the performance of an application in real-time or retrospectively. By analyzing log data, you can identify performance bottlenecks, resource usage, and other important metrics, which helps in optimizing the application.\n",
    "\n",
    "Auditing and Compliance: In many industries and applications, it's essential to maintain a record of activities and events for auditing and compliance purposes. Logs can be used to track user actions, system events, and data access, ensuring that an application adheres to regulatory requirements.\n",
    "\n",
    "Security: Logs play a crucial role in detecting and responding to security incidents. They can record suspicious activities, unauthorized access attempts, and other security-related events, helping to identify and mitigate security threats.\n",
    "\n",
    "Historical Record: Logs serve as a historical record of an application's operation. They provide insights into how an application has behaved over time, which can be valuable for trend analysis, capacity planning, and historical reference.\n",
    "\n",
    "Collaboration and Communication: Logs can be shared among team members to facilitate communication and collaboration. Developers can use logs to share information about issues, changes, and system status with other team members or stakeholders."
   ]
  },
  {
   "cell_type": "markdown",
   "id": "89fe8f8e",
   "metadata": {},
   "source": [
    "que 6 = Explain the purpose of log levels in Python logging and provide examples of when\n",
    "each log level would be appropriate.\n",
    "\n",
    "ans 6 =  In Python logging, log levels are used to categorize log messages based on their severity or importance. Log levels allow developers to control the verbosity of log output and help them identify and prioritize issues in their code. Python's logging module provides several predefined log levels, each with its own purpose. These log levels, in increasing order of severity, are:\n",
    "\n",
    "DEBUG: This is the lowest log level. It is used for detailed debugging information. Developers typically use it when they want to track the flow of their program, investigate variable values, or identify potential issues during development. Example usage:"
   ]
  },
  {
   "cell_type": "code",
   "execution_count": 7,
   "id": "408375d1",
   "metadata": {},
   "outputs": [],
   "source": [
    "import logging\n",
    "\n",
    "logging.basicConfig(level=logging.DEBUG)\n",
    "logger = logging.getLogger(__name__)\n",
    "\n",
    "def some_function():\n",
    "    logger.debug(\"Entering some_function\")\n",
    "    # Debugging code here\n",
    "    logger.debug(\"Exiting some_function\")\n"
   ]
  },
  {
   "cell_type": "markdown",
   "id": "27db0a57",
   "metadata": {},
   "source": [
    "INFO: INFO level is used to provide general information about the program's operation. It is typically used to indicate significant program events or milestones. Example usage:"
   ]
  },
  {
   "cell_type": "code",
   "execution_count": 8,
   "id": "eb81bdf9",
   "metadata": {},
   "outputs": [
    {
     "name": "stderr",
     "output_type": "stream",
     "text": [
      "INFO:__main__:Starting the application\n",
      "INFO:__main__:Application finished successfully\n"
     ]
    }
   ],
   "source": [
    "import logging\n",
    "\n",
    "logging.basicConfig(level=logging.INFO)\n",
    "logger = logging.getLogger(__name__)\n",
    "\n",
    "def main():\n",
    "    logger.info(\"Starting the application\")\n",
    "    # Application logic\n",
    "    logger.info(\"Application finished successfully\")\n",
    "\n",
    "if __name__ == \"__main__\":\n",
    "    main()\n"
   ]
  },
  {
   "cell_type": "markdown",
   "id": "5182aef6",
   "metadata": {},
   "source": [
    "WARNING: WARNING level is used to indicate potential issues or warnings that do not prevent the program from functioning but may require attention. This level is often used to capture non-critical errors. Example usage"
   ]
  },
  {
   "cell_type": "code",
   "execution_count": 9,
   "id": "88279cf4",
   "metadata": {},
   "outputs": [],
   "source": [
    "import logging\n",
    "\n",
    "logging.basicConfig(level=logging.WARNING)\n",
    "logger = logging.getLogger(__name__)\n",
    "\n",
    "def divide(a, b):\n",
    "    try:\n",
    "        result = a / b\n",
    "    except ZeroDivisionError:\n",
    "        logger.warning(\"Division by zero occurred\")\n",
    "        result = None\n",
    "    return result\n"
   ]
  },
  {
   "cell_type": "markdown",
   "id": "97699821",
   "metadata": {},
   "source": [
    "ERROR: ERROR level is used to report errors that have occurred during the program's execution but have not caused it to terminate. These errors should be addressed to ensure the program continues running correctly. Example usage:"
   ]
  },
  {
   "cell_type": "code",
   "execution_count": 10,
   "id": "c8bde5c1",
   "metadata": {},
   "outputs": [
    {
     "ename": "IndentationError",
     "evalue": "expected an indented block after 'try' statement on line 7 (3195808214.py, line 9)",
     "output_type": "error",
     "traceback": [
      "\u001b[1;36m  Cell \u001b[1;32mIn[10], line 9\u001b[1;36m\u001b[0m\n\u001b[1;33m    except Exception as e:\u001b[0m\n\u001b[1;37m    ^\u001b[0m\n\u001b[1;31mIndentationError\u001b[0m\u001b[1;31m:\u001b[0m expected an indented block after 'try' statement on line 7\n"
     ]
    }
   ],
   "source": [
    "import logging\n",
    "\n",
    "logging.basicConfig(level=logging.ERROR)\n",
    "logger = logging.getLogger(__name__)\n",
    "\n",
    "def process_data(data):\n",
    "    try:\n",
    "        # Process data here\n",
    "    except Exception as e:\n",
    "        logger.error(f\"Error processing data: {e}\")\n"
   ]
  },
  {
   "cell_type": "markdown",
   "id": "01135a20",
   "metadata": {},
   "source": [
    "CRITICAL: CRITICAL is the highest log level, and it is used to indicate critical errors that may cause the program to fail or crash. When a critical error is logged, it is important to take immediate action to prevent data loss or system failure. Example usage:"
   ]
  },
  {
   "cell_type": "code",
   "execution_count": 11,
   "id": "21be3c01",
   "metadata": {},
   "outputs": [],
   "source": [
    "import logging\n",
    "\n",
    "logging.basicConfig(level=logging.CRITICAL)\n",
    "logger = logging.getLogger(__name__)\n",
    "\n",
    "def critical_function():\n",
    "    # Critical error condition\n",
    "    if some_critical_condition:\n",
    "        logger.critical(\"Critical error detected - shutting down!\")\n",
    "        sys.exit(1)\n"
   ]
  },
  {
   "cell_type": "markdown",
   "id": "39e81c49",
   "metadata": {},
   "source": [
    "que 7 = What are log formatters in Python logging, and how can you customise the log\n",
    "message format using formatters?\n",
    "\n",
    "ans 7 = In Python's logging module, log formatters are used to customize the format of log messages that are generated and emitted by the logging system. Formatters allow you to control how the log records are presented when they are written to various output destinations, such as console, files, or external services. Customizing the log message format using formatters is essential for making the logs more informative and readable according to your specific needs.\n",
    "\n",
    "Here's how you can work with log formatters and customize the log message format in Python's logging module:\n",
    "\n",
    "Import the logging module:\n",
    "First, you need to import the logging module in your Python script or application.\n",
    "\n",
    "import logging\n",
    "Create a logger object:\n",
    "You can create a logger object using logging.getLogger(). You usually give it a name to identify the logger.\n",
    "\n",
    "logger = logging.getLogger(\"my_logger\")\n",
    "Create a formatter object:\n",
    "Formatters determine how log records are formatted. You can create a formatter object using the logging.Formatter class and specify the desired log message format using a format string.\n",
    "\n",
    "formatter = logging.Formatter('%(asctime)s - %(name)s - %(levelname)s - %(message)s')\n",
    "Here's what each part of the format string means:\n",
    "\n",
    "%(asctime)s: The timestamp when the log message was created.\n",
    "%(name)s: The logger's name.\n",
    "%(levelname)s: The log level (e.g., INFO, ERROR, etc.).\n",
    "%(message)s: The actual log message.\n",
    "Create a handler and set the formatter:\n",
    "Handlers determine where log records are sent. You can create a handler (e.g., logging.StreamHandler for console output or logging.FileHandler for file output) and set the formatter for that handler.\n",
    "\n",
    "console_handler = logging.StreamHandler()\n",
    "console_handler.setFormatter(formatter)\n",
    "Add the handler to the logger:\n",
    "Add the handler to your logger so that it knows where to send log messages.\n",
    "\n",
    "\n",
    "logger.addHandler(console_handler)\n",
    "Log messages:\n",
    "Now, you can log messages using your logger with different log levels (e.g., INFO, ERROR, DEBUG).\n",
    "\n",
    "\n",
    "\n",
    "\n"
   ]
  },
  {
   "cell_type": "code",
   "execution_count": 13,
   "id": "e5a5e11f",
   "metadata": {},
   "outputs": [
    {
     "name": "stderr",
     "output_type": "stream",
     "text": [
      "DEBUG:__main__:This is a debug message\n",
      "INFO:__main__:This is an info message\n",
      "WARNING:__main__:This is a warning message\n",
      "ERROR:__main__:This is an error message\n",
      "CRITICAL:__main__:This is a critical message\n"
     ]
    }
   ],
   "source": [
    "logger.debug(\"This is a debug message\")\n",
    "logger.info(\"This is an info message\")\n",
    "logger.warning(\"This is a warning message\")\n",
    "logger.error(\"This is an error message\")\n",
    "logger.critical(\"This is a critical message\")\n",
    "#The log messages will be formatted according to the format string you specified in the formatter.\n"
   ]
  },
  {
   "cell_type": "markdown",
   "id": "12133374",
   "metadata": {},
   "source": [
    "que 8 = How can you set up logging to capture log messages from multiple modules or\n",
    "classes in a Python application?\n",
    "\n",
    "ans 8 = To capture log messages from multiple modules or classes in a Python application, you can use the built-in logging module, which provides a flexible and configurable logging system. Here are the steps to set up logging for this purpose:\n",
    "\n",
    "Import the logging module:\n",
    "\n",
    "Start by importing the logging module in your Python script or application.\n",
    "\n",
    "import logging\n",
    "Configure the Logging System:\n",
    "\n",
    "Before you can capture log messages, you need to configure the logging system. You can configure it to your needs using the following steps:\n",
    "\n",
    "Set the logging level: Decide which log messages should be captured. The logging levels, in increasing order of severity, are DEBUG, INFO, WARNING, ERROR, and CRITICAL. You can set the minimum level to capture using logging.basicConfig.\n",
    "\n",
    "logging.basicConfig(level=logging.DEBUG)  # Adjust the level as needed\n",
    "Define a logging format: Specify how log messages should appear in the log files. You can set the format using logging.basicConfig.\n",
    "e\n",
    "logging.basicConfig(format='%(asctime)s - %(name)s - %(levelname)s - %(message)s')\n",
    "Configure the output: Determine where the log messages should be sent. You can configure logging to write to a file, print to the console, or send to a network socket.\n",
    "\n",
    "logging.basicConfig(filename='myapp.log', filemode='w', level=logging.DEBUG)\n",
    "Create Loggers for Modules/Classes:\n",
    "\n",
    "In each module or class that you want to capture log messages from, create a logger using logging.getLogger(__name__). This is typically done at the beginning of each module or class."
   ]
  },
  {
   "cell_type": "code",
   "execution_count": 14,
   "id": "0260e48a",
   "metadata": {},
   "outputs": [],
   "source": [
    "import logging\n",
    "\n",
    "logger = logging.getLogger(__name__)\n"
   ]
  },
  {
   "cell_type": "markdown",
   "id": "6227ecfd",
   "metadata": {},
   "source": [
    "Here, __name__ is a built-in Python variable that automatically represents the name of the current module or class. This helps to identify where each log message originates.\n",
    "\n",
    "Use the Logger to Log Messages:\n",
    "\n",
    "Inside your modules or classes, use the logger to log messages at various levels as needed. You can use logger.debug(), logger.info(), logger.warning(), logger.error(), and logger.critical() to log messages."
   ]
  },
  {
   "cell_type": "code",
   "execution_count": 15,
   "id": "313862df",
   "metadata": {},
   "outputs": [
    {
     "name": "stderr",
     "output_type": "stream",
     "text": [
      "DEBUG:__main__:This is a debug message\n",
      "INFO:__main__:This is an info message\n",
      "WARNING:__main__:This is a warning message\n",
      "ERROR:__main__:This is an error message\n",
      "CRITICAL:__main__:This is a critical message\n"
     ]
    }
   ],
   "source": [
    "logger.debug(\"This is a debug message\")\n",
    "logger.info(\"This is an info message\")\n",
    "logger.warning(\"This is a warning message\")\n",
    "logger.error(\"This is an error message\")\n",
    "logger.critical(\"This is a critical message\")\n"
   ]
  },
  {
   "cell_type": "markdown",
   "id": "721e926e",
   "metadata": {},
   "source": [
    "Run Your Application:\n",
    "\n",
    "When you run your Python application, the log messages will be captured according to the configured settings. You can find the log messages in the specified log file (if configured) or see them in the console."
   ]
  },
  {
   "cell_type": "markdown",
   "id": "8ed86150",
   "metadata": {},
   "source": [
    "QUE 9 = What is the difference between the logging and print statements in Python? When\n",
    "should you use logging over print statements in a real-world application?\n",
    "\n",
    "ANS 9 = Purpose:\n",
    "\n",
    "Logging: The primary purpose of logging is to record information about the execution of a program, including status messages, error messages, and diagnostic information. Logs are typically used for debugging, monitoring, and auditing purposes.\n",
    "Print Statements: Print statements are used for displaying information to the console during program execution. They are mainly used for debugging or providing user feedback but are not well-suited for long-term logging and monitoring.\n",
    "Destination:\n",
    "\n",
    "Logging: Logs can be configured to go to various destinations, such as files, the console, network sockets, or third-party logging services. This flexibility allows you to control where your log messages are stored and how they are managed.\n",
    "Print Statements: Print statements always output to the console by default. You can redirect standard output to a file or other destinations, but it's less flexible compared to logging.\n",
    "Severity Levels:\n",
    "\n",
    "Logging: Logging allows you to categorize messages into different severity levels (e.g., DEBUG, INFO, WARNING, ERROR, CRITICAL). This makes it easier to filter and analyze log messages based on their importance.\n",
    "Print Statements: Print statements do not provide built-in severity levels, making it harder to distinguish between different types of messages.\n",
    "Control and Configuration:\n",
    "\n",
    "Logging: Python's logging module provides extensive configuration options. You can configure loggers, handlers, formatters, and filter messages based on severity or other criteria. This makes it suitable for customizing log behavior in various scenarios.\n",
    "Print Statements: Print statements offer limited control and customization options. You can redirect output and format messages to some extent, but it's not as versatile as logging.\n",
    "Performance:\n",
    "\n",
    "Logging: Logging can be more efficient for large-scale applications because it allows you to enable or disable logging at different levels dynamically. This means you can leave logging code in your application without incurring a significant performance penalty when it's turned off.\n",
    "Print Statements: Print statements are always active, which can lead to performance overhead if you have a lot of them in your code."
   ]
  },
  {
   "cell_type": "markdown",
   "id": "9a6b3889",
   "metadata": {},
   "source": [
    "QUE 10 = Write a Python program that logs a message to a file named \"app.log\" with the\n",
    "following requirements:\n",
    "● The log message should be \"Hello, World!\"\n",
    "● The log level should be set to \"INFO.\"\n",
    "● The log file should append new log entries without overwriting previous ones.\n",
    "\n",
    "ANS 10 = CODE"
   ]
  },
  {
   "cell_type": "code",
   "execution_count": 16,
   "id": "99adfba5",
   "metadata": {},
   "outputs": [
    {
     "name": "stderr",
     "output_type": "stream",
     "text": [
      "INFO:root:Hello, World!\n"
     ]
    }
   ],
   "source": [
    "import logging\n",
    "\n",
    "# Configure the logging settings\n",
    "log_filename = \"app.log\"\n",
    "\n",
    "# Define the log format\n",
    "log_format = \"%(asctime)s - %(levelname)s - %(message)s\"\n",
    "\n",
    "# Set the log level to INFO\n",
    "logging.basicConfig(filename=log_filename, level=logging.INFO, format=log_format)\n",
    "\n",
    "# Log the message\n",
    "logging.info(\"Hello, World!\")\n",
    "\n",
    "# Close the logging file\n",
    "logging.shutdown()\n"
   ]
  },
  {
   "cell_type": "markdown",
   "id": "c0c1ff46",
   "metadata": {},
   "source": [
    "QUE 11 =  Create a Python program that logs an error message to the console and a file named\n",
    "\"errors.log\" if an exception occurs during the program's execution. The error\n",
    "message should include the exception type and a timestamp.\n",
    "\n",
    "ANS 11 = CODE"
   ]
  },
  {
   "cell_type": "code",
   "execution_count": 20,
   "id": "15af6c2b",
   "metadata": {},
   "outputs": [
    {
     "ename": "IndentationError",
     "evalue": "expected an indented block after 'try' statement on line 14 (3881557879.py, line 19)",
     "output_type": "error",
     "traceback": [
      "\u001b[1;36m  Cell \u001b[1;32mIn[20], line 19\u001b[1;36m\u001b[0m\n\u001b[1;33m    except Exception as e:\u001b[0m\n\u001b[1;37m    ^\u001b[0m\n\u001b[1;31mIndentationError\u001b[0m\u001b[1;31m:\u001b[0m expected an indented block after 'try' statement on line 14\n"
     ]
    }
   ],
   "source": [
    "import logging\n",
    "import datetime\n",
    "\n",
    "# Configure logging to write messages to both console and a file\n",
    "logging.basicConfig(\n",
    "    level=logging.ERROR,  # Set the logging level to ERROR or higher\n",
    "    format='%(asctime)s - %(levelname)s - %(message)s',\n",
    "    handlers=[\n",
    "        logging.FileHandler('errors.log'),  # Log to a file named errors.log\n",
    "        logging.StreamHandler()  # Log to the console\n",
    "    ]\n",
    ")\n",
    "\n",
    "try:\n",
    "    # Your code that may raise an exception goes here\n",
    "    # For example, you can raise an exception to test the logging:\n",
    "    # raise ValueError(\"This is a sample exception\")\n",
    "    \n",
    "except Exception as e:\n",
    "    # Log the exception with a timestamp\n",
    "    logging.error(f\"Exception occurred: {type(e).__name__} - {str(e)}\")\n"
   ]
  },
  {
   "cell_type": "code",
   "execution_count": null,
   "id": "2c04d95a",
   "metadata": {},
   "outputs": [],
   "source": []
  },
  {
   "cell_type": "code",
   "execution_count": null,
   "id": "0f4905b2",
   "metadata": {},
   "outputs": [],
   "source": []
  }
 ],
 "metadata": {
  "kernelspec": {
   "display_name": "Python 3 (ipykernel)",
   "language": "python",
   "name": "python3"
  },
  "language_info": {
   "codemirror_mode": {
    "name": "ipython",
    "version": 3
   },
   "file_extension": ".py",
   "mimetype": "text/x-python",
   "name": "python",
   "nbconvert_exporter": "python",
   "pygments_lexer": "ipython3",
   "version": "3.11.4"
  }
 },
 "nbformat": 4,
 "nbformat_minor": 5
}
